{
 "cells": [
  {
   "cell_type": "code",
   "execution_count": null,
   "id": "6aab58cb",
   "metadata": {},
   "outputs": [],
   "source": [
    "employees = []\n",
    "\n",
    "while True:\n",
    "    print(\"\\n1.Add  2.View  3.Search  4.Delete  5.Update  6.Exit\")\n",
    "    choice = input(\"Enter choice: \")\n",
    "\n",
    "    if choice == '1':\n",
    "        name = input(\"Enter name: \")\n",
    "        id = input(\"Enter ID: \")\n",
    "        employees.append([name, id])\n",
    "\n",
    "    elif choice == '2':\n",
    "        for e in employees:\n",
    "            print(\"Name:\", e[0], \"| ID:\", e[1])\n",
    "\n",
    "    elif choice == '3':\n",
    "        sid = input(\"Enter ID to search: \")\n",
    "        found = False\n",
    "        for e in employees:\n",
    "            if e[1] == sid:\n",
    "                print(\"Found - Name:\", e[0], \"| ID:\", e[1])\n",
    "                found = True\n",
    "        if not found:\n",
    "            print(\"Employee not found\")\n",
    "\n",
    "    elif choice == '4':\n",
    "        did = input(\"Enter ID to delete: \")\n",
    "        for e in employees:\n",
    "            if e[1] == did:\n",
    "                employees.remove(e)\n",
    "                print(\"Deleted\")\n",
    "                break\n",
    "        else:\n",
    "            print(\"Employee not found\")\n",
    "\n",
    "    elif choice == '5':\n",
    "        uid = input(\"Enter ID to update: \")\n",
    "        for e in employees:\n",
    "            if e[1] == uid:\n",
    "                e[0] = input(\"Enter new name: \")\n",
    "                print(\"Updated\")\n",
    "                break\n",
    "        else:\n",
    "            print(\"Employee not found\")\n",
    "\n",
    "    elif choice == '6':\n",
    "        break\n",
    "    else:\n",
    "        print(\"Invalid choice\")\n"
   ]
  }
 ],
 "metadata": {
  "language_info": {
   "name": "python"
  }
 },
 "nbformat": 4,
 "nbformat_minor": 5
}
